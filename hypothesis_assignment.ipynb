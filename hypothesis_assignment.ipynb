{
 "cells": [
  {
   "cell_type": "code",
   "execution_count": 2,
   "metadata": {},
   "outputs": [],
   "source": [
    "import pandas as pd\n",
    "import scipy \n",
    "import numpy as np\n",
    "from scipy import stats"
   ]
  },
  {
   "cell_type": "markdown",
   "metadata": {},
   "source": [
    "# Hypothesis testing"
   ]
  },
  {
   "cell_type": "markdown",
   "metadata": {},
   "source": [
    "### Hypothesis Statement\n",
    "\n",
    "- Null Hypothesis (H₀): The weekly operating cost has not increased. That is, the mean weekly cost is **μ = $1,000 + $5 × 600 = $4,000**.\n",
    "- Alternative Hypothesis (H₁): The weekly operating cost has **increased**, i.e., the mean weekly cost is **greater than $4,000**."
   ]
  },
  {
   "cell_type": "markdown",
   "metadata": {},
   "source": [
    "### Calculate the Test Statistic"
   ]
  },
  {
   "cell_type": "code",
   "execution_count": 3,
   "metadata": {},
   "outputs": [],
   "source": [
    "mean_weekly_cost = 1000+5*600 #The theoretical mean weekly cost μ\n",
    "deviation_weekly_cost = 5*25 #Standard deviation of weekly cost σ\n",
    "n = 25 #Sample size\n",
    "x = 3050 #Sample mean"
   ]
  },
  {
   "cell_type": "code",
   "execution_count": 4,
   "metadata": {},
   "outputs": [
    {
     "data": {
      "text/plain": [
       "-38.0"
      ]
     },
     "execution_count": 4,
     "metadata": {},
     "output_type": "execute_result"
    }
   ],
   "source": [
    "#Test statistic Z\n",
    "z = (x-mean_weekly_cost)/(deviation_weekly_cost/np.sqrt(n))\n",
    "z"
   ]
  },
  {
   "cell_type": "markdown",
   "metadata": {},
   "source": [
    "### Determine the Critical Value"
   ]
  },
  {
   "cell_type": "code",
   "execution_count": 5,
   "metadata": {},
   "outputs": [
    {
     "data": {
      "text/plain": [
       "1.644853626951472"
      ]
     },
     "execution_count": 5,
     "metadata": {},
     "output_type": "execute_result"
    }
   ],
   "source": [
    "z_critical = stats.norm.ppf(1-0.05)\n",
    "z_critical"
   ]
  },
  {
   "cell_type": "markdown",
   "metadata": {},
   "source": [
    "### Make a Decision\n",
    "Since the test statistic Z = -38.00 is not greater than the critical value Z_critical = 1.64, we fail to reject the null hypothesis."
   ]
  },
  {
   "cell_type": "markdown",
   "metadata": {},
   "source": [
    "\n",
    "### Conclusion\n",
    "\n",
    "There is not sufficient evidence at the 5% significance level to support the restaurant owners' claim that the weekly operating costs are higher than the model suggests.\n"
   ]
  },
  {
   "cell_type": "markdown",
   "metadata": {},
   "source": [
    "# Chi-Square"
   ]
  },
  {
   "cell_type": "markdown",
   "metadata": {},
   "source": [
    "### Hypthesis statemenets\n",
    "- Null Hypothesis (H₀): There is **no association** between device type and customer satisfaction.\n",
    "- Alternative Hypothesis (H₁): There **is an association** between device type and customer satisfaction."
   ]
  },
  {
   "cell_type": "markdown",
   "metadata": {},
   "source": [
    "### Compute Chi-Square Statistic"
   ]
  },
  {
   "cell_type": "code",
   "execution_count": 6,
   "metadata": {},
   "outputs": [],
   "source": [
    "# Observed frequencies (from the contingency table)\n",
    "observed = pd.DataFrame({\n",
    "    \"Smart Thermostat\": [50, 80, 60, 30, 20],\n",
    "    \"Smart Light\": [70, 100, 90, 50, 50]\n",
    "}, index=[\"Very Satisfied\", \"Satisfied\", \"Neutral\", \"Unsatisfied\", \"Very Unsatisfied\"])"
   ]
  },
  {
   "cell_type": "code",
   "execution_count": 7,
   "metadata": {},
   "outputs": [],
   "source": [
    "# Run the chi-square test\n",
    "chi2_stat, p_val, dof, expected = scipy.stats.chi2_contingency(observed)"
   ]
  },
  {
   "cell_type": "code",
   "execution_count": 8,
   "metadata": {},
   "outputs": [
    {
     "name": "stdout",
     "output_type": "stream",
     "text": [
      "Chi-Square Statistic: 5.64\n",
      "Degrees of Freedom: 4\n",
      "P-value: 0.2278\n",
      "\n",
      "Expected Frequencies Table:\n",
      "                  Smart Thermostat  Smart Light\n",
      "Very Satisfied                48.0         72.0\n",
      "Satisfied                     72.0        108.0\n",
      "Neutral                       60.0         90.0\n",
      "Unsatisfied                   32.0         48.0\n",
      "Very Unsatisfied              28.0         42.0\n"
     ]
    }
   ],
   "source": [
    "print(f\"Chi-Square Statistic: {chi2_stat:.2f}\")\n",
    "print(f\"Degrees of Freedom: {dof}\")\n",
    "print(f\"P-value: {p_val:.4f}\")\n",
    "\n",
    "# Show expected frequencies in a readable format\n",
    "expected_df = pd.DataFrame(expected, index=observed.index, columns=observed.columns)\n",
    "print(\"\\nExpected Frequencies Table:\")\n",
    "print(expected_df.round(2))\n"
   ]
  },
  {
   "cell_type": "markdown",
   "metadata": {},
   "source": [
    "### Determine the Critical Value"
   ]
  },
  {
   "cell_type": "code",
   "execution_count": 11,
   "metadata": {},
   "outputs": [
    {
     "data": {
      "text/plain": [
       "9.487729036781154"
      ]
     },
     "execution_count": 11,
     "metadata": {},
     "output_type": "execute_result"
    }
   ],
   "source": [
    "# Degrees of freedom = (rows - 1) * (columns - 1)\n",
    "dof = 4\n",
    "\n",
    "# Critical value from chi-square distribution\n",
    "critical_value = stats.chi2.ppf(1 - 0.05, dof)\n",
    "critical_value"
   ]
  },
  {
   "cell_type": "markdown",
   "metadata": {},
   "source": [
    "### Make a decision\n",
    "Since the Chi-Square Statistic = 5.64 is not greater than the critical value = 9.49, we fail to reject the null hypothesis."
   ]
  },
  {
   "cell_type": "markdown",
   "metadata": {},
   "source": [
    "\n",
    "### Conclusion\n",
    "\n",
    "There is not sufficient evidence to conclude that customer satisfaction is associated with the type of smart home device purchased.\n"
   ]
  }
 ],
 "metadata": {
  "kernelspec": {
   "display_name": "base",
   "language": "python",
   "name": "python3"
  },
  "language_info": {
   "codemirror_mode": {
    "name": "ipython",
    "version": 3
   },
   "file_extension": ".py",
   "mimetype": "text/x-python",
   "name": "python",
   "nbconvert_exporter": "python",
   "pygments_lexer": "ipython3",
   "version": "3.12.2"
  }
 },
 "nbformat": 4,
 "nbformat_minor": 2
}
